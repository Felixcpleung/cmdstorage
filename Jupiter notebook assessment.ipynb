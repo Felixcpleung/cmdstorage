{
 "cells": [
  {
   "cell_type": "markdown",
   "metadata": {},
   "source": [
    "# My Jupyter Notebook on IBM Data Science Experience"
   ]
  },
  {
   "cell_type": "markdown",
   "metadata": {},
   "source": [
    "**Leung Chik Pang** "
   ]
  },
  {
   "cell_type": "markdown",
   "metadata": {},
   "source": [
    " Data Analyst (desired occupation)"
   ]
  },
  {
   "cell_type": "markdown",
   "metadata": {},
   "source": [
    "I like data science because it can help quantify and disclosure hidden relationship between things."
   ]
  },
  {
   "cell_type": "markdown",
   "metadata": {},
   "source": [
    "### Calculation of 1+1"
   ]
  },
  {
   "cell_type": "code",
   "execution_count": 5,
   "metadata": {},
   "outputs": [
    {
     "data": {
      "text/plain": [
       "2"
      ]
     },
     "execution_count": 5,
     "metadata": {},
     "output_type": "execute_result"
    }
   ],
   "source": [
    "1+1"
   ]
  },
  {
   "cell_type": "markdown",
   "metadata": {},
   "source": [
    "### horizontal rule  \n",
    "---\n",
    "### bullet list\n",
    "* sentence1\n",
    "* sentence2\n",
    "\n",
    "### Ordered list\n",
    "1. first\n",
    "2. second\n",
    "3. third\n",
    "\n",
    "### hyperlinks\n",
    "\n",
    "[www.google.com](https://www.google.com \"please tap here\")\n",
    "\n",
    "\n",
    "### image\n",
    "![animal I like](https://encrypted-tbn0.gstatic.com/images?q=tbn:ANd9GcS3QdueNUZf61e7278QWM4GRl2bRge2yyRpSwuwhHrbIZMTi9QI&s \"Bear\")\n",
    "\n",
    "### code and syntax highlighting\n",
    "```python\n",
    "#Highlight syntax in python\n",
    "animal = \"bear\"\n",
    "print (\"I love %s\" %animal)\n",
    "```\n",
    "\n",
    "Try `print` with `%`\n",
    "\n",
    "### Table\n",
    "\n",
    "**Mon**|**Fri**|**Sun**|\n",
    "---|---|---\n",
    "work hard|play|`rest`\n",
    "Maths|family|learning\n",
    "*R31*|R32|R33\n",
    "R41|R42|`R44`\n",
    "R51|`R52`|R53\n",
    "\n",
    "#### Blockquotes\n",
    "\n",
    "> ''It won't be too late to change. *Yet, it will be `**too late**` not to act* ''  \n",
    "\n",
    "##### Strikethrough  \n",
    "~~Cross it~~\n",
    "\n"
   ]
  }
 ],
 "metadata": {
  "kernelspec": {
   "display_name": "Python 3.6",
   "language": "python",
   "name": "python3"
  },
  "language_info": {
   "codemirror_mode": {
    "name": "ipython",
    "version": 3
   },
   "file_extension": ".py",
   "mimetype": "text/x-python",
   "name": "python",
   "nbconvert_exporter": "python",
   "pygments_lexer": "ipython3",
   "version": "3.6.8"
  }
 },
 "nbformat": 4,
 "nbformat_minor": 1
}
